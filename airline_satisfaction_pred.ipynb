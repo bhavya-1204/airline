{
 "cells": [
  {
   "cell_type": "code",
   "execution_count": 1,
   "id": "2eafe098-e6f3-4570-b178-57c30fb42f14",
   "metadata": {},
   "outputs": [],
   "source": [
    "import pandas as pd\n",
    "import numpy as np"
   ]
  },
  {
   "cell_type": "code",
   "execution_count": 26,
   "id": "e829001a-073a-4c77-9409-d45b0ca3c142",
   "metadata": {},
   "outputs": [],
   "source": [
    "from sklearn.model_selection import train_test_split\n",
    "from sklearn.preprocessing import OneHotEncoder\n",
    "from sklearn.linear_model import LinearRegression, LogisticRegression\n",
    "from sklearn.tree import DecisionTreeClassifier"
   ]
  },
  {
   "cell_type": "code",
   "execution_count": 15,
   "id": "989a5453-b2f5-4a0a-9e47-97341d22c1fd",
   "metadata": {},
   "outputs": [],
   "source": [
    "data = pd.read_csv('train.csv').drop(columns=['Unnamed: 0', 'id'])"
   ]
  },
  {
   "cell_type": "code",
   "execution_count": 16,
   "id": "c43f0730-ac9f-45bc-ad9e-a387e50e8179",
   "metadata": {},
   "outputs": [
    {
     "data": {
      "text/html": [
       "<div>\n",
       "<style scoped>\n",
       "    .dataframe tbody tr th:only-of-type {\n",
       "        vertical-align: middle;\n",
       "    }\n",
       "\n",
       "    .dataframe tbody tr th {\n",
       "        vertical-align: top;\n",
       "    }\n",
       "\n",
       "    .dataframe thead th {\n",
       "        text-align: right;\n",
       "    }\n",
       "</style>\n",
       "<table border=\"1\" class=\"dataframe\">\n",
       "  <thead>\n",
       "    <tr style=\"text-align: right;\">\n",
       "      <th></th>\n",
       "      <th>Gender</th>\n",
       "      <th>Customer Type</th>\n",
       "      <th>Age</th>\n",
       "      <th>Type of Travel</th>\n",
       "      <th>Class</th>\n",
       "      <th>Flight Distance</th>\n",
       "      <th>Inflight wifi service</th>\n",
       "      <th>Departure/Arrival time convenient</th>\n",
       "      <th>Ease of Online booking</th>\n",
       "      <th>Gate location</th>\n",
       "      <th>...</th>\n",
       "      <th>Inflight entertainment</th>\n",
       "      <th>On-board service</th>\n",
       "      <th>Leg room service</th>\n",
       "      <th>Baggage handling</th>\n",
       "      <th>Checkin service</th>\n",
       "      <th>Inflight service</th>\n",
       "      <th>Cleanliness</th>\n",
       "      <th>Departure Delay in Minutes</th>\n",
       "      <th>Arrival Delay in Minutes</th>\n",
       "      <th>satisfaction</th>\n",
       "    </tr>\n",
       "  </thead>\n",
       "  <tbody>\n",
       "    <tr>\n",
       "      <th>0</th>\n",
       "      <td>Male</td>\n",
       "      <td>Loyal Customer</td>\n",
       "      <td>13</td>\n",
       "      <td>Personal Travel</td>\n",
       "      <td>Eco Plus</td>\n",
       "      <td>460</td>\n",
       "      <td>3</td>\n",
       "      <td>4</td>\n",
       "      <td>3</td>\n",
       "      <td>1</td>\n",
       "      <td>...</td>\n",
       "      <td>5</td>\n",
       "      <td>4</td>\n",
       "      <td>3</td>\n",
       "      <td>4</td>\n",
       "      <td>4</td>\n",
       "      <td>5</td>\n",
       "      <td>5</td>\n",
       "      <td>25</td>\n",
       "      <td>18.0</td>\n",
       "      <td>neutral or dissatisfied</td>\n",
       "    </tr>\n",
       "    <tr>\n",
       "      <th>1</th>\n",
       "      <td>Male</td>\n",
       "      <td>disloyal Customer</td>\n",
       "      <td>25</td>\n",
       "      <td>Business travel</td>\n",
       "      <td>Business</td>\n",
       "      <td>235</td>\n",
       "      <td>3</td>\n",
       "      <td>2</td>\n",
       "      <td>3</td>\n",
       "      <td>3</td>\n",
       "      <td>...</td>\n",
       "      <td>1</td>\n",
       "      <td>1</td>\n",
       "      <td>5</td>\n",
       "      <td>3</td>\n",
       "      <td>1</td>\n",
       "      <td>4</td>\n",
       "      <td>1</td>\n",
       "      <td>1</td>\n",
       "      <td>6.0</td>\n",
       "      <td>neutral or dissatisfied</td>\n",
       "    </tr>\n",
       "    <tr>\n",
       "      <th>2</th>\n",
       "      <td>Female</td>\n",
       "      <td>Loyal Customer</td>\n",
       "      <td>26</td>\n",
       "      <td>Business travel</td>\n",
       "      <td>Business</td>\n",
       "      <td>1142</td>\n",
       "      <td>2</td>\n",
       "      <td>2</td>\n",
       "      <td>2</td>\n",
       "      <td>2</td>\n",
       "      <td>...</td>\n",
       "      <td>5</td>\n",
       "      <td>4</td>\n",
       "      <td>3</td>\n",
       "      <td>4</td>\n",
       "      <td>4</td>\n",
       "      <td>4</td>\n",
       "      <td>5</td>\n",
       "      <td>0</td>\n",
       "      <td>0.0</td>\n",
       "      <td>satisfied</td>\n",
       "    </tr>\n",
       "    <tr>\n",
       "      <th>3</th>\n",
       "      <td>Female</td>\n",
       "      <td>Loyal Customer</td>\n",
       "      <td>25</td>\n",
       "      <td>Business travel</td>\n",
       "      <td>Business</td>\n",
       "      <td>562</td>\n",
       "      <td>2</td>\n",
       "      <td>5</td>\n",
       "      <td>5</td>\n",
       "      <td>5</td>\n",
       "      <td>...</td>\n",
       "      <td>2</td>\n",
       "      <td>2</td>\n",
       "      <td>5</td>\n",
       "      <td>3</td>\n",
       "      <td>1</td>\n",
       "      <td>4</td>\n",
       "      <td>2</td>\n",
       "      <td>11</td>\n",
       "      <td>9.0</td>\n",
       "      <td>neutral or dissatisfied</td>\n",
       "    </tr>\n",
       "    <tr>\n",
       "      <th>4</th>\n",
       "      <td>Male</td>\n",
       "      <td>Loyal Customer</td>\n",
       "      <td>61</td>\n",
       "      <td>Business travel</td>\n",
       "      <td>Business</td>\n",
       "      <td>214</td>\n",
       "      <td>3</td>\n",
       "      <td>3</td>\n",
       "      <td>3</td>\n",
       "      <td>3</td>\n",
       "      <td>...</td>\n",
       "      <td>3</td>\n",
       "      <td>3</td>\n",
       "      <td>4</td>\n",
       "      <td>4</td>\n",
       "      <td>3</td>\n",
       "      <td>3</td>\n",
       "      <td>3</td>\n",
       "      <td>0</td>\n",
       "      <td>0.0</td>\n",
       "      <td>satisfied</td>\n",
       "    </tr>\n",
       "  </tbody>\n",
       "</table>\n",
       "<p>5 rows × 23 columns</p>\n",
       "</div>"
      ],
      "text/plain": [
       "   Gender      Customer Type  Age   Type of Travel     Class  Flight Distance  \\\n",
       "0    Male     Loyal Customer   13  Personal Travel  Eco Plus              460   \n",
       "1    Male  disloyal Customer   25  Business travel  Business              235   \n",
       "2  Female     Loyal Customer   26  Business travel  Business             1142   \n",
       "3  Female     Loyal Customer   25  Business travel  Business              562   \n",
       "4    Male     Loyal Customer   61  Business travel  Business              214   \n",
       "\n",
       "   Inflight wifi service  Departure/Arrival time convenient  \\\n",
       "0                      3                                  4   \n",
       "1                      3                                  2   \n",
       "2                      2                                  2   \n",
       "3                      2                                  5   \n",
       "4                      3                                  3   \n",
       "\n",
       "   Ease of Online booking  Gate location  ...  Inflight entertainment  \\\n",
       "0                       3              1  ...                       5   \n",
       "1                       3              3  ...                       1   \n",
       "2                       2              2  ...                       5   \n",
       "3                       5              5  ...                       2   \n",
       "4                       3              3  ...                       3   \n",
       "\n",
       "   On-board service  Leg room service  Baggage handling  Checkin service  \\\n",
       "0                 4                 3                 4                4   \n",
       "1                 1                 5                 3                1   \n",
       "2                 4                 3                 4                4   \n",
       "3                 2                 5                 3                1   \n",
       "4                 3                 4                 4                3   \n",
       "\n",
       "   Inflight service  Cleanliness  Departure Delay in Minutes  \\\n",
       "0                 5            5                          25   \n",
       "1                 4            1                           1   \n",
       "2                 4            5                           0   \n",
       "3                 4            2                          11   \n",
       "4                 3            3                           0   \n",
       "\n",
       "   Arrival Delay in Minutes             satisfaction  \n",
       "0                      18.0  neutral or dissatisfied  \n",
       "1                       6.0  neutral or dissatisfied  \n",
       "2                       0.0                satisfied  \n",
       "3                       9.0  neutral or dissatisfied  \n",
       "4                       0.0                satisfied  \n",
       "\n",
       "[5 rows x 23 columns]"
      ]
     },
     "execution_count": 16,
     "metadata": {},
     "output_type": "execute_result"
    }
   ],
   "source": [
    "data.head()"
   ]
  },
  {
   "cell_type": "code",
   "execution_count": 17,
   "id": "cbe024b2-b57e-4da7-aaa0-5ee91b0d4b41",
   "metadata": {},
   "outputs": [
    {
     "data": {
      "text/plain": [
       "Gender                                 0\n",
       "Customer Type                          0\n",
       "Age                                    0\n",
       "Type of Travel                         0\n",
       "Class                                  0\n",
       "Flight Distance                        0\n",
       "Inflight wifi service                  0\n",
       "Departure/Arrival time convenient      0\n",
       "Ease of Online booking                 0\n",
       "Gate location                          0\n",
       "Food and drink                         0\n",
       "Online boarding                        0\n",
       "Seat comfort                           0\n",
       "Inflight entertainment                 0\n",
       "On-board service                       0\n",
       "Leg room service                       0\n",
       "Baggage handling                       0\n",
       "Checkin service                        0\n",
       "Inflight service                       0\n",
       "Cleanliness                            0\n",
       "Departure Delay in Minutes             0\n",
       "Arrival Delay in Minutes             310\n",
       "satisfaction                           0\n",
       "dtype: int64"
      ]
     },
     "execution_count": 17,
     "metadata": {},
     "output_type": "execute_result"
    }
   ],
   "source": [
    "data.isnull().sum()"
   ]
  },
  {
   "cell_type": "code",
   "execution_count": 18,
   "id": "d7f7e83c-8b08-48be-b39c-df8ad344339c",
   "metadata": {},
   "outputs": [
    {
     "data": {
      "text/plain": [
       "(103904, 23)"
      ]
     },
     "execution_count": 18,
     "metadata": {},
     "output_type": "execute_result"
    }
   ],
   "source": [
    "data.shape"
   ]
  },
  {
   "cell_type": "code",
   "execution_count": 19,
   "id": "1b3f226d-4aa0-40bd-adaa-67ec7f53d1e1",
   "metadata": {},
   "outputs": [],
   "source": [
    "data.dropna(inplace=True)"
   ]
  },
  {
   "cell_type": "code",
   "execution_count": 20,
   "id": "ecc1f37d-e2d3-4b46-b3c9-7696d07cdc2b",
   "metadata": {},
   "outputs": [
    {
     "name": "stdout",
     "output_type": "stream",
     "text": [
      "<class 'pandas.core.frame.DataFrame'>\n",
      "Index: 103594 entries, 0 to 103903\n",
      "Data columns (total 23 columns):\n",
      " #   Column                             Non-Null Count   Dtype  \n",
      "---  ------                             --------------   -----  \n",
      " 0   Gender                             103594 non-null  object \n",
      " 1   Customer Type                      103594 non-null  object \n",
      " 2   Age                                103594 non-null  int64  \n",
      " 3   Type of Travel                     103594 non-null  object \n",
      " 4   Class                              103594 non-null  object \n",
      " 5   Flight Distance                    103594 non-null  int64  \n",
      " 6   Inflight wifi service              103594 non-null  int64  \n",
      " 7   Departure/Arrival time convenient  103594 non-null  int64  \n",
      " 8   Ease of Online booking             103594 non-null  int64  \n",
      " 9   Gate location                      103594 non-null  int64  \n",
      " 10  Food and drink                     103594 non-null  int64  \n",
      " 11  Online boarding                    103594 non-null  int64  \n",
      " 12  Seat comfort                       103594 non-null  int64  \n",
      " 13  Inflight entertainment             103594 non-null  int64  \n",
      " 14  On-board service                   103594 non-null  int64  \n",
      " 15  Leg room service                   103594 non-null  int64  \n",
      " 16  Baggage handling                   103594 non-null  int64  \n",
      " 17  Checkin service                    103594 non-null  int64  \n",
      " 18  Inflight service                   103594 non-null  int64  \n",
      " 19  Cleanliness                        103594 non-null  int64  \n",
      " 20  Departure Delay in Minutes         103594 non-null  int64  \n",
      " 21  Arrival Delay in Minutes           103594 non-null  float64\n",
      " 22  satisfaction                       103594 non-null  object \n",
      "dtypes: float64(1), int64(17), object(5)\n",
      "memory usage: 19.0+ MB\n"
     ]
    }
   ],
   "source": [
    "data.info()"
   ]
  },
  {
   "cell_type": "code",
   "execution_count": 24,
   "id": "208704b3-2041-4109-a777-4128241c192c",
   "metadata": {},
   "outputs": [
    {
     "name": "stdout",
     "output_type": "stream",
     "text": [
      "['Male' 'Female']\n",
      "['Loyal Customer' 'disloyal Customer']\n",
      "[13 25 26 61 47 52 41 20 24 12 53 33 45 38  9 17 43 58 23 57 49 36 22 31\n",
      " 15 35 67 37 40 34 39 50 29 54 21 28 27 69 60 48 59 46 30 66 64 44 51 32\n",
      " 19 42 16 11 62  8 56 68 55 18 65 72 70 63 10  7 14 80 74 71 85 73 76 77\n",
      " 75 79 78]\n",
      "['Personal Travel' 'Business travel']\n",
      "['Eco Plus' 'Business' 'Eco']\n",
      "[ 460  235 1142 ...  974 1479  400]\n",
      "[3 2 4 1 5 0]\n",
      "[4 2 5 3 1 0]\n",
      "[3 2 5 4 1 0]\n",
      "[1 3 2 5 4 0]\n",
      "[5 1 2 4 3 0]\n",
      "[3 5 2 1 4 0]\n",
      "[5 1 2 3 4 0]\n",
      "[5 1 2 3 4 0]\n",
      "[4 1 2 3 5 0]\n",
      "[3 5 4 2 1 0]\n",
      "[4 3 5 1 2]\n",
      "[4 1 3 5 2 0]\n",
      "[5 4 3 1 2 0]\n",
      "[5 1 2 3 4 0]\n",
      "[  25    1    0   11    9    4   28   43   49    7   17   52   54   27\n",
      "   18   19    3  109   23    8   14   10   51   39   13   30   64   20\n",
      "   45   44   31   81   35   67   22   40   91   21   15   29  105   12\n",
      "  162   24  141    6   34    2   97   16   99   37   66   53   36  209\n",
      "   60  149   26    5   59   62  113   38   83  176   46   73  199   56\n",
      "   93   70   80   96   57   95   74  172   63  175  143   48   47  101\n",
      "  118   76  220   33   55  232  170  173  124  112   94  243  128   92\n",
      "  270   90  110   50  144   71  315  158   88   65  111   32  156   41\n",
      "  154  150  228   72  137  126  161   42  174  103  313  136  160  412\n",
      "   69  185  114  135  142  147   85  235  125  391   84  138  102  196\n",
      "  140   77  187  131   82  100   86  165   87  129  204  435  166  177\n",
      "  123  139  116  108  167  285   61  117  106  190  168  211   89  324\n",
      "   75  202  290  189  203  120  157  119   68  299  292   78  258  104\n",
      "  121   58  222  317  320  200  134  248   79  240  169   98  249  145\n",
      "  238  246  132  107  127  180  151  480  241  130  268  115  133  171\n",
      "  164  330  438  472  163  122  326  186  155  223  332  447 1305  208\n",
      "  201  233  210  182  221  159  188  184  224  178  266  191  219  652\n",
      "  148  226  236  153  276  212  152  198  245  726  302  283  505  242\n",
      "  215  394  206  311  293  566  225  146  218  227  252  291  193  323\n",
      "  281  287  339  183  259  192  319  207  195  179  194  537  181  257\n",
      "  213  300  295  262  312  383  392  294  250  419  216  308  423  346\n",
      "  272  197  205  303  251  344  333  355  454  459  269  254  231  253\n",
      "  265  301  263  381  214  310  244  239  255  328  348  278  859  692\n",
      "  321  465  426  340  274  267  519  286  414  559  382  237  260  401\n",
      "  247  376  288  271  450  230  279  264  448  398  750  365  316  351\n",
      "  327  341  306  353  358  514  334  277  275  352  371  437  229  600\n",
      "  296  460  338  307  234  289  452  318  256  368  626  729  217  362\n",
      "  360  853  446  399  396  463  364  342  372  298  273  427  429  373\n",
      "  420  579  930 1017  921  370  378  595  491  469  345  410  610  388\n",
      "  748  336  433  347  444  282  978  322  496  389  359  415  329  933\n",
      "  402  331  280  407 1592  501  384  377  503  400  430  570  357  350\n",
      "  297  309  531  304  363  411  390  314  343  724  337]\n",
      "[1.800e+01 6.000e+00 0.000e+00 9.000e+00 2.300e+01 8.000e+00 3.500e+01\n",
      " 5.100e+01 1.000e+01 5.000e+00 4.000e+00 2.900e+01 4.400e+01 2.800e+01\n",
      " 1.200e+01 1.200e+02 2.400e+01 1.000e+00 2.000e+01 3.100e+01 1.500e+01\n",
      " 4.800e+01 2.600e+01 4.900e+01 2.000e+00 3.700e+01 5.000e+01 3.000e+00\n",
      " 1.900e+01 7.200e+01 1.100e+01 3.400e+01 6.200e+01 2.700e+01 5.200e+01\n",
      " 1.300e+01 8.200e+01 3.000e+01 1.600e+01 7.000e+00 1.220e+02 1.790e+02\n",
      " 1.250e+02 1.700e+01 8.900e+01 1.010e+02 1.400e+01 6.100e+01 3.200e+01\n",
      " 3.300e+01 4.100e+01 1.910e+02 1.380e+02 5.300e+01 2.200e+01 5.700e+01\n",
      " 6.500e+01 7.600e+01 1.070e+02 9.200e+01 1.640e+02 2.100e+01 4.000e+01\n",
      " 5.500e+01 1.850e+02 6.300e+01 7.700e+01 8.600e+01 9.100e+01 1.000e+02\n",
      " 5.400e+01 3.600e+01 7.000e+01 1.390e+02 6.700e+01 1.630e+02 1.280e+02\n",
      " 1.800e+02 9.300e+01 1.210e+02 4.500e+01 1.050e+02 1.260e+02 5.600e+01\n",
      " 7.300e+01 2.120e+02 8.800e+01 2.410e+02 1.720e+02 1.750e+02 1.110e+02\n",
      " 9.900e+01 2.500e+01 4.200e+01 2.260e+02 4.600e+01 1.310e+02 2.600e+02\n",
      " 6.900e+01 1.420e+02 5.800e+01 7.500e+01 3.800e+01 6.600e+01 3.900e+01\n",
      " 1.030e+02 3.070e+02 1.560e+02 7.400e+01 1.090e+02 1.550e+02 6.000e+01\n",
      " 1.540e+02 4.300e+01 1.470e+02 2.170e+02 1.240e+02 4.700e+01 1.500e+02\n",
      " 1.160e+02 1.710e+02 8.400e+01 1.230e+02 1.650e+02 9.400e+01 8.300e+01\n",
      " 3.360e+02 5.900e+01 2.190e+02 8.700e+01 4.590e+02 6.800e+01 1.040e+02\n",
      " 1.330e+02 1.340e+02 8.100e+01 2.590e+02 8.000e+01 7.900e+01 2.220e+02\n",
      " 2.030e+02 3.540e+02 2.140e+02 7.800e+01 9.500e+01 7.100e+01 1.100e+02\n",
      " 8.500e+01 1.460e+02 1.960e+02 9.800e+01 4.700e+02 2.640e+02 1.490e+02\n",
      " 1.130e+02 1.190e+02 1.060e+02 2.160e+02 1.600e+02 2.850e+02 1.150e+02\n",
      " 1.860e+02 2.110e+02 3.230e+02 1.760e+02 1.670e+02 2.420e+02 2.840e+02\n",
      " 2.000e+02 1.450e+02 1.080e+02 1.740e+02 1.320e+02 3.130e+02 3.310e+02\n",
      " 2.880e+02 1.180e+02 2.250e+02 6.400e+01 3.240e+02 1.900e+02 1.770e+02\n",
      " 1.360e+02 3.200e+02 2.010e+02 2.710e+02 9.600e+01 1.520e+02 2.800e+02\n",
      " 1.410e+02 1.570e+02 1.530e+02 1.300e+02 1.400e+02 1.120e+02 2.570e+02\n",
      " 1.170e+02 2.350e+02 9.000e+01 1.810e+02 1.830e+02 1.270e+02 4.710e+02\n",
      " 2.270e+02 1.020e+02 1.350e+02 1.290e+02 2.550e+02 1.920e+02 3.480e+02\n",
      " 4.380e+02 4.460e+02 1.840e+02 1.680e+02 1.660e+02 3.100e+02 1.730e+02\n",
      " 2.610e+02 1.610e+02 2.360e+02 1.510e+02 1.820e+02 3.210e+02 2.330e+02\n",
      " 1.370e+02 4.330e+02 1.280e+03 2.180e+02 1.480e+02 1.440e+02 1.870e+02\n",
      " 2.060e+02 1.700e+02 2.090e+02 1.140e+02 2.240e+02 2.810e+02 2.230e+02\n",
      " 6.380e+02 2.200e+02 2.340e+02 9.700e+01 2.650e+02 3.880e+02 2.620e+02\n",
      " 2.210e+02 1.620e+02 2.670e+02 3.740e+02 2.280e+02 2.440e+02 2.470e+02\n",
      " 6.910e+02 1.430e+02 1.890e+02 1.970e+02 2.040e+02 3.190e+02 2.730e+02\n",
      " 3.290e+02 1.950e+02 4.860e+02 1.780e+02 2.700e+02 1.580e+02 1.990e+02\n",
      " 2.130e+02 3.830e+02 3.020e+02 6.000e+02 2.150e+02 1.690e+02 1.880e+02\n",
      " 2.660e+02 2.920e+02 2.870e+02 2.300e+02 2.390e+02 2.890e+02 2.980e+02\n",
      " 2.320e+02 3.630e+02 2.050e+02 2.950e+02 2.830e+02 5.240e+02 3.270e+02\n",
      " 2.460e+02 2.900e+02 3.140e+02 3.160e+02 3.040e+02 2.020e+02 2.960e+02\n",
      " 2.480e+02 3.860e+02 3.810e+02 1.590e+02 3.220e+02 4.600e+02 4.180e+02\n",
      " 3.490e+02 2.560e+02 2.490e+02 1.940e+02 3.150e+02 2.080e+02 1.930e+02\n",
      " 3.710e+02 2.290e+02 3.910e+02 4.540e+02 4.450e+02 2.100e+02 2.680e+02\n",
      " 2.530e+02 2.450e+02 3.370e+02 2.970e+02 4.360e+02 2.790e+02 3.000e+02\n",
      " 2.400e+02 2.370e+02 2.070e+02 1.980e+02 4.040e+02 2.430e+02 3.410e+02\n",
      " 2.780e+02 3.050e+02 8.600e+02 2.580e+02 7.020e+02 3.600e+02 4.930e+02\n",
      " 4.270e+02 3.350e+02 5.160e+02 2.720e+02 4.100e+02 5.550e+02 3.920e+02\n",
      " 2.520e+02 3.300e+02 3.820e+02 2.930e+02 2.770e+02 2.310e+02 2.750e+02\n",
      " 3.620e+02 2.760e+02 7.290e+02 3.570e+02 3.260e+02 2.500e+02 4.580e+02\n",
      " 3.340e+02 2.910e+02 3.800e+02 3.590e+02 3.460e+02 6.240e+02 3.770e+02\n",
      " 3.720e+02 4.290e+02 5.890e+02 3.010e+02 5.020e+02 2.990e+02 4.570e+02\n",
      " 2.380e+02 4.010e+02 4.400e+02 2.860e+02 2.740e+02 3.110e+02 3.030e+02\n",
      " 6.040e+02 7.170e+02 3.560e+02 4.090e+02 8.230e+02 2.940e+02 2.510e+02\n",
      " 4.310e+02 4.320e+02 4.030e+02 3.180e+02 5.030e+02 3.380e+02 3.640e+02\n",
      " 4.070e+02 3.680e+02 3.080e+02 2.540e+02 4.350e+02 2.630e+02 4.170e+02\n",
      " 3.580e+02 4.160e+02 5.610e+02 3.510e+02 9.520e+02 1.011e+03 9.240e+02\n",
      " 3.060e+02 4.240e+02 4.850e+02 4.430e+02 3.170e+02 5.180e+02 3.500e+02\n",
      " 4.440e+02 3.120e+02 3.970e+02 5.930e+02 3.930e+02 7.200e+02 3.660e+02\n",
      " 4.550e+02 2.690e+02 4.340e+02 9.700e+02 3.470e+02 3.090e+02 3.780e+02\n",
      " 3.790e+02 3.950e+02 3.700e+02 4.480e+02 9.200e+02 3.890e+02 3.550e+02\n",
      " 3.420e+02 1.584e+03 5.000e+02 4.020e+02 4.060e+02 4.840e+02 4.120e+02\n",
      " 5.670e+02 4.200e+02 3.990e+02 3.450e+02 3.530e+02 4.220e+02 2.820e+02\n",
      " 5.070e+02 4.250e+02 3.390e+02 3.520e+02 3.850e+02 7.050e+02 3.690e+02]\n",
      "['neutral or dissatisfied' 'satisfied']\n"
     ]
    }
   ],
   "source": [
    "for column in data.columns:\n",
    "    unicol = data[column].unique()\n",
    "    print(unicol)"
   ]
  },
  {
   "cell_type": "code",
   "execution_count": 25,
   "id": "00c4ad22-f61a-459e-b7b3-1cb5a7e469ae",
   "metadata": {},
   "outputs": [
    {
     "data": {
      "text/html": [
       "<div>\n",
       "<style scoped>\n",
       "    .dataframe tbody tr th:only-of-type {\n",
       "        vertical-align: middle;\n",
       "    }\n",
       "\n",
       "    .dataframe tbody tr th {\n",
       "        vertical-align: top;\n",
       "    }\n",
       "\n",
       "    .dataframe thead th {\n",
       "        text-align: right;\n",
       "    }\n",
       "</style>\n",
       "<table border=\"1\" class=\"dataframe\">\n",
       "  <thead>\n",
       "    <tr style=\"text-align: right;\">\n",
       "      <th></th>\n",
       "      <th>Gender</th>\n",
       "      <th>Customer Type</th>\n",
       "      <th>Age</th>\n",
       "      <th>Type of Travel</th>\n",
       "      <th>Class</th>\n",
       "      <th>Flight Distance</th>\n",
       "      <th>Inflight wifi service</th>\n",
       "      <th>Departure/Arrival time convenient</th>\n",
       "      <th>Ease of Online booking</th>\n",
       "      <th>Gate location</th>\n",
       "      <th>...</th>\n",
       "      <th>Inflight entertainment</th>\n",
       "      <th>On-board service</th>\n",
       "      <th>Leg room service</th>\n",
       "      <th>Baggage handling</th>\n",
       "      <th>Checkin service</th>\n",
       "      <th>Inflight service</th>\n",
       "      <th>Cleanliness</th>\n",
       "      <th>Departure Delay in Minutes</th>\n",
       "      <th>Arrival Delay in Minutes</th>\n",
       "      <th>satisfaction</th>\n",
       "    </tr>\n",
       "  </thead>\n",
       "  <tbody>\n",
       "    <tr>\n",
       "      <th>101289</th>\n",
       "      <td>Male</td>\n",
       "      <td>Loyal Customer</td>\n",
       "      <td>59</td>\n",
       "      <td>Business travel</td>\n",
       "      <td>Business</td>\n",
       "      <td>954</td>\n",
       "      <td>4</td>\n",
       "      <td>4</td>\n",
       "      <td>4</td>\n",
       "      <td>4</td>\n",
       "      <td>...</td>\n",
       "      <td>4</td>\n",
       "      <td>4</td>\n",
       "      <td>4</td>\n",
       "      <td>4</td>\n",
       "      <td>3</td>\n",
       "      <td>4</td>\n",
       "      <td>5</td>\n",
       "      <td>52</td>\n",
       "      <td>59.0</td>\n",
       "      <td>satisfied</td>\n",
       "    </tr>\n",
       "    <tr>\n",
       "      <th>63063</th>\n",
       "      <td>Male</td>\n",
       "      <td>Loyal Customer</td>\n",
       "      <td>24</td>\n",
       "      <td>Personal Travel</td>\n",
       "      <td>Eco</td>\n",
       "      <td>546</td>\n",
       "      <td>3</td>\n",
       "      <td>5</td>\n",
       "      <td>3</td>\n",
       "      <td>1</td>\n",
       "      <td>...</td>\n",
       "      <td>5</td>\n",
       "      <td>3</td>\n",
       "      <td>3</td>\n",
       "      <td>5</td>\n",
       "      <td>4</td>\n",
       "      <td>3</td>\n",
       "      <td>5</td>\n",
       "      <td>0</td>\n",
       "      <td>2.0</td>\n",
       "      <td>neutral or dissatisfied</td>\n",
       "    </tr>\n",
       "    <tr>\n",
       "      <th>32284</th>\n",
       "      <td>Male</td>\n",
       "      <td>Loyal Customer</td>\n",
       "      <td>55</td>\n",
       "      <td>Business travel</td>\n",
       "      <td>Business</td>\n",
       "      <td>500</td>\n",
       "      <td>1</td>\n",
       "      <td>5</td>\n",
       "      <td>5</td>\n",
       "      <td>5</td>\n",
       "      <td>...</td>\n",
       "      <td>1</td>\n",
       "      <td>1</td>\n",
       "      <td>1</td>\n",
       "      <td>1</td>\n",
       "      <td>4</td>\n",
       "      <td>1</td>\n",
       "      <td>4</td>\n",
       "      <td>0</td>\n",
       "      <td>27.0</td>\n",
       "      <td>neutral or dissatisfied</td>\n",
       "    </tr>\n",
       "    <tr>\n",
       "      <th>81136</th>\n",
       "      <td>Male</td>\n",
       "      <td>disloyal Customer</td>\n",
       "      <td>37</td>\n",
       "      <td>Business travel</td>\n",
       "      <td>Business</td>\n",
       "      <td>166</td>\n",
       "      <td>4</td>\n",
       "      <td>4</td>\n",
       "      <td>4</td>\n",
       "      <td>1</td>\n",
       "      <td>...</td>\n",
       "      <td>5</td>\n",
       "      <td>5</td>\n",
       "      <td>2</td>\n",
       "      <td>4</td>\n",
       "      <td>3</td>\n",
       "      <td>5</td>\n",
       "      <td>5</td>\n",
       "      <td>0</td>\n",
       "      <td>0.0</td>\n",
       "      <td>neutral or dissatisfied</td>\n",
       "    </tr>\n",
       "    <tr>\n",
       "      <th>79812</th>\n",
       "      <td>Male</td>\n",
       "      <td>Loyal Customer</td>\n",
       "      <td>16</td>\n",
       "      <td>Business travel</td>\n",
       "      <td>Business</td>\n",
       "      <td>3922</td>\n",
       "      <td>1</td>\n",
       "      <td>1</td>\n",
       "      <td>5</td>\n",
       "      <td>1</td>\n",
       "      <td>...</td>\n",
       "      <td>1</td>\n",
       "      <td>4</td>\n",
       "      <td>2</td>\n",
       "      <td>3</td>\n",
       "      <td>1</td>\n",
       "      <td>4</td>\n",
       "      <td>1</td>\n",
       "      <td>52</td>\n",
       "      <td>49.0</td>\n",
       "      <td>neutral or dissatisfied</td>\n",
       "    </tr>\n",
       "  </tbody>\n",
       "</table>\n",
       "<p>5 rows × 23 columns</p>\n",
       "</div>"
      ],
      "text/plain": [
       "       Gender      Customer Type  Age   Type of Travel     Class  \\\n",
       "101289   Male     Loyal Customer   59  Business travel  Business   \n",
       "63063    Male     Loyal Customer   24  Personal Travel       Eco   \n",
       "32284    Male     Loyal Customer   55  Business travel  Business   \n",
       "81136    Male  disloyal Customer   37  Business travel  Business   \n",
       "79812    Male     Loyal Customer   16  Business travel  Business   \n",
       "\n",
       "        Flight Distance  Inflight wifi service  \\\n",
       "101289              954                      4   \n",
       "63063               546                      3   \n",
       "32284               500                      1   \n",
       "81136               166                      4   \n",
       "79812              3922                      1   \n",
       "\n",
       "        Departure/Arrival time convenient  Ease of Online booking  \\\n",
       "101289                                  4                       4   \n",
       "63063                                   5                       3   \n",
       "32284                                   5                       5   \n",
       "81136                                   4                       4   \n",
       "79812                                   1                       5   \n",
       "\n",
       "        Gate location  ...  Inflight entertainment  On-board service  \\\n",
       "101289              4  ...                       4                 4   \n",
       "63063               1  ...                       5                 3   \n",
       "32284               5  ...                       1                 1   \n",
       "81136               1  ...                       5                 5   \n",
       "79812               1  ...                       1                 4   \n",
       "\n",
       "        Leg room service  Baggage handling  Checkin service  Inflight service  \\\n",
       "101289                 4                 4                3                 4   \n",
       "63063                  3                 5                4                 3   \n",
       "32284                  1                 1                4                 1   \n",
       "81136                  2                 4                3                 5   \n",
       "79812                  2                 3                1                 4   \n",
       "\n",
       "        Cleanliness  Departure Delay in Minutes  Arrival Delay in Minutes  \\\n",
       "101289            5                          52                      59.0   \n",
       "63063             5                           0                       2.0   \n",
       "32284             4                           0                      27.0   \n",
       "81136             5                           0                       0.0   \n",
       "79812             1                          52                      49.0   \n",
       "\n",
       "                   satisfaction  \n",
       "101289                satisfied  \n",
       "63063   neutral or dissatisfied  \n",
       "32284   neutral or dissatisfied  \n",
       "81136   neutral or dissatisfied  \n",
       "79812   neutral or dissatisfied  \n",
       "\n",
       "[5 rows x 23 columns]"
      ]
     },
     "execution_count": 25,
     "metadata": {},
     "output_type": "execute_result"
    }
   ],
   "source": [
    "data.sample(5)"
   ]
  },
  {
   "cell_type": "code",
   "execution_count": 28,
   "id": "f919a66d-407b-4e1c-9bf0-829c814422a7",
   "metadata": {},
   "outputs": [
    {
     "data": {
      "text/plain": [
       "((82875, 22), (20719, 22))"
      ]
     },
     "execution_count": 28,
     "metadata": {},
     "output_type": "execute_result"
    }
   ],
   "source": [
    "X_train, X_test, y_train, y_test = train_test_split(data.drop(columns='satisfaction'), data['satisfaction'], test_size=0.2, random_state=2)\n",
    "X_train.shape, X_test.shape"
   ]
  },
  {
   "cell_type": "code",
   "execution_count": 29,
   "id": "4d3e55f6-f9f4-48a5-9ea5-eab58db66935",
   "metadata": {},
   "outputs": [],
   "source": [
    "ohe = OneHotEncoder(sparse_output= False, handle_unknown='ignore')\n",
    "\n",
    "data_gen_tr = ohe.fit_transform(X_train[['Gender']])\n",
    "data_cutype_tr = ohe.fit_transform(X_train[['Customer Type']])\n",
    "data_travel_tr = ohe.fit_transform(X_train[['Type of Travel']])\n",
    "data_class_tr = ohe.fit_transform(X_train[['Class']])\n",
    "\n",
    "data_gen_te = ohe.fit_transform(X_test[['Gender']])\n",
    "data_cutype_te = ohe.fit_transform(X_test[['Customer Type']])\n",
    "data_travel_te = ohe.fit_transform(X_test[['Type of Travel']])\n",
    "data_class_te = ohe.fit_transform(X_test[['Class']])"
   ]
  },
  {
   "cell_type": "code",
   "execution_count": 30,
   "id": "ffe4bcd6-6b66-4ccb-9801-17444f324b69",
   "metadata": {},
   "outputs": [
    {
     "data": {
      "text/plain": [
       "Index(['Gender', 'Customer Type', 'Age', 'Type of Travel', 'Class',\n",
       "       'Flight Distance', 'Inflight wifi service',\n",
       "       'Departure/Arrival time convenient', 'Ease of Online booking',\n",
       "       'Gate location', 'Food and drink', 'Online boarding', 'Seat comfort',\n",
       "       'Inflight entertainment', 'On-board service', 'Leg room service',\n",
       "       'Baggage handling', 'Checkin service', 'Inflight service',\n",
       "       'Cleanliness', 'Departure Delay in Minutes', 'Arrival Delay in Minutes',\n",
       "       'satisfaction'],\n",
       "      dtype='object')"
      ]
     },
     "execution_count": 30,
     "metadata": {},
     "output_type": "execute_result"
    }
   ],
   "source": [
    "data.columns"
   ]
  },
  {
   "cell_type": "code",
   "execution_count": 36,
   "id": "81807a99-0312-4e7f-9dec-5f3e741140fe",
   "metadata": {},
   "outputs": [],
   "source": [
    "data_rem_tr = X_train.drop(columns=['Gender', 'Customer Type', 'Age', 'Type of Travel', 'Class'], axis=1)\n",
    "data_rem_te = X_test.drop(columns=['Gender', 'Customer Type', 'Age', 'Type of Travel', 'Class'], axis=1)"
   ]
  },
  {
   "cell_type": "code",
   "execution_count": 37,
   "id": "697fe594-fce0-4f4b-bf14-21a3fdbe1a29",
   "metadata": {},
   "outputs": [
    {
     "data": {
      "text/plain": [
       "((82875, 17), (20719, 17))"
      ]
     },
     "execution_count": 37,
     "metadata": {},
     "output_type": "execute_result"
    }
   ],
   "source": [
    "data_rem_tr.shape, data_rem_te.shape"
   ]
  },
  {
   "cell_type": "code",
   "execution_count": 43,
   "id": "94cf4711-40f5-4c73-a97a-15cd9c0488f1",
   "metadata": {},
   "outputs": [],
   "source": [
    "X_train_final = np.concatenate([data_rem_tr, data_gen_tr, data_cutype_tr, data_travel_tr, data_class_tr], axis = 1)\n",
    "X_test_final = np.concatenate([data_rem_te, data_gen_te, data_cutype_te, data_travel_te, data_class_te], axis = 1)"
   ]
  },
  {
   "cell_type": "code",
   "execution_count": 46,
   "id": "c9696b28-8c15-458e-88a0-2eea70e5ff7d",
   "metadata": {},
   "outputs": [
    {
     "data": {
      "text/plain": [
       "((82875, 26), (20719, 26))"
      ]
     },
     "execution_count": 46,
     "metadata": {},
     "output_type": "execute_result"
    }
   ],
   "source": [
    "X_train_final.shape, X_test_final.shape"
   ]
  },
  {
   "cell_type": "code",
   "execution_count": 48,
   "id": "f1032dea-f011-48eb-b847-4c775c6475c0",
   "metadata": {},
   "outputs": [],
   "source": [
    "from sklearn.preprocessing import LabelEncoder\n",
    "le = LabelEncoder()\n",
    "y_train_final = le.fit_transform(y_train)\n",
    "y_test_final = le.transform(y_test)"
   ]
  },
  {
   "cell_type": "code",
   "execution_count": 51,
   "id": "a7fbefa8-c09b-4955-b473-114840554125",
   "metadata": {},
   "outputs": [
    {
     "data": {
      "text/plain": [
       "44945    neutral or dissatisfied\n",
       "8835                   satisfied\n",
       "96739                  satisfied\n",
       "89593    neutral or dissatisfied\n",
       "82234                  satisfied\n",
       "                  ...           \n",
       "21561                  satisfied\n",
       "65948    neutral or dissatisfied\n",
       "62001    neutral or dissatisfied\n",
       "91055    neutral or dissatisfied\n",
       "28996    neutral or dissatisfied\n",
       "Name: satisfaction, Length: 20719, dtype: object"
      ]
     },
     "execution_count": 51,
     "metadata": {},
     "output_type": "execute_result"
    }
   ],
   "source": [
    "y_test"
   ]
  },
  {
   "cell_type": "code",
   "execution_count": 52,
   "id": "28ea1858-be30-45ec-a5c4-1b7e89a8bd06",
   "metadata": {},
   "outputs": [],
   "source": [
    "from sklearn.metrics import accuracy_score"
   ]
  },
  {
   "cell_type": "code",
   "execution_count": 73,
   "id": "1746dacb-75c6-4527-bb8b-7b2a88fcbe29",
   "metadata": {},
   "outputs": [
    {
     "name": "stdout",
     "output_type": "stream",
     "text": [
      "train score :  0.5545045043963237\n",
      "test score :  0.5402257512075511\n"
     ]
    }
   ],
   "source": [
    "lr = LinearRegression()\n",
    "\n",
    "lr.fit(X_train_final, y_train_final)\n",
    "y_pred = lr.predict(X_test_final)\n",
    "\n",
    "print('train score : ',lr.score(X_train_final, y_train_final))\n",
    "print('test score : ',lr.score(X_test_final, y_test_final))"
   ]
  },
  {
   "cell_type": "code",
   "execution_count": 74,
   "id": "7b653e3b-9c1c-4157-801b-cc5c50c06287",
   "metadata": {},
   "outputs": [
    {
     "name": "stdout",
     "output_type": "stream",
     "text": [
      "train score :  0.8166877828054299\n",
      "test score :  0.8109464742506878\n"
     ]
    },
    {
     "name": "stderr",
     "output_type": "stream",
     "text": [
      "C:\\Users\\Bhavy\\AppData\\Local\\Programs\\Python\\Python312\\Lib\\site-packages\\sklearn\\linear_model\\_logistic.py:469: ConvergenceWarning: lbfgs failed to converge (status=1):\n",
      "STOP: TOTAL NO. of ITERATIONS REACHED LIMIT.\n",
      "\n",
      "Increase the number of iterations (max_iter) or scale the data as shown in:\n",
      "    https://scikit-learn.org/stable/modules/preprocessing.html\n",
      "Please also refer to the documentation for alternative solver options:\n",
      "    https://scikit-learn.org/stable/modules/linear_model.html#logistic-regression\n",
      "  n_iter_i = _check_optimize_result(\n"
     ]
    }
   ],
   "source": [
    "lo = LogisticRegression()\n",
    "\n",
    "lo.fit(X_train_final, y_train_final)\n",
    "y_predd = lo.predict(X_test_final)\n",
    "\n",
    "print('train score : ',lo.score(X_train_final, y_train_final))\n",
    "print('test score : ', lo.score(X_test_final, y_test_final))"
   ]
  },
  {
   "cell_type": "code",
   "execution_count": 64,
   "id": "226f5ecb-66c7-42d5-aa1f-ef70fa434b49",
   "metadata": {},
   "outputs": [
    {
     "data": {
      "text/plain": [
       "0.9421786765770549"
      ]
     },
     "execution_count": 64,
     "metadata": {},
     "output_type": "execute_result"
    }
   ],
   "source": [
    "clf = DecisionTreeClassifier()\n",
    "\n",
    "clf.fit(X_train_final, y_train_final)\n",
    "y_pred_clf = clf.predict(X_test_final)\n",
    "\n",
    "accuracy_score(y_pred_clf, y_test_final)"
   ]
  },
  {
   "cell_type": "code",
   "execution_count": null,
   "id": "66f759eb-fb88-43bb-9568-b92b3b42bc7d",
   "metadata": {},
   "outputs": [],
   "source": []
  }
 ],
 "metadata": {
  "kernelspec": {
   "display_name": "Python 3 (ipykernel)",
   "language": "python",
   "name": "python3"
  },
  "language_info": {
   "codemirror_mode": {
    "name": "ipython",
    "version": 3
   },
   "file_extension": ".py",
   "mimetype": "text/x-python",
   "name": "python",
   "nbconvert_exporter": "python",
   "pygments_lexer": "ipython3",
   "version": "3.12.0"
  }
 },
 "nbformat": 4,
 "nbformat_minor": 5
}
